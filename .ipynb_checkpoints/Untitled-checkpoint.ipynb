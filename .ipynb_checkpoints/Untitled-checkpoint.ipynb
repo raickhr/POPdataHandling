{
 "cells": [
  {
   "cell_type": "code",
   "execution_count": 1,
   "metadata": {},
   "outputs": [
    {
     "ename": "ValueError",
     "evalue": "too many values to unpack (expected 2)",
     "output_type": "error",
     "traceback": [
      "\u001b[0;31m---------------------------------------------------------------------------\u001b[0m",
      "\u001b[0;31mValueError\u001b[0m                                Traceback (most recent call last)",
      "\u001b[0;32m<ipython-input-1-43753e9d0507>\u001b[0m in \u001b[0;36m<module>\u001b[0;34m()\u001b[0m\n\u001b[1;32m     21\u001b[0m \u001b[0;34m\u001b[0m\u001b[0m\n\u001b[1;32m     22\u001b[0m \u001b[0;34m\u001b[0m\u001b[0m\n\u001b[0;32m---> 23\u001b[0;31m \u001b[0mU_Grid_Var\u001b[0m\u001b[0;34m,\u001b[0m \u001b[0mT_Grid_Var\u001b[0m \u001b[0;34m=\u001b[0m \u001b[0mreadGridInfo\u001b[0m\u001b[0;34m(\u001b[0m\u001b[0mgridFileName\u001b[0m\u001b[0;34m)\u001b[0m\u001b[0;34m\u001b[0m\u001b[0m\n\u001b[0m\u001b[1;32m     24\u001b[0m \u001b[0;34m\u001b[0m\u001b[0m\n\u001b[1;32m     25\u001b[0m \u001b[0mvar\u001b[0m \u001b[0;34m=\u001b[0m \u001b[0mT_Grid_Var\u001b[0m\u001b[0;34m.\u001b[0m\u001b[0mloc\u001b[0m\u001b[0;34m[\u001b[0m\u001b[0mT_Grid_Var\u001b[0m\u001b[0;34m[\u001b[0m\u001b[0;34m'name'\u001b[0m\u001b[0;34m]\u001b[0m \u001b[0;34m==\u001b[0m \u001b[0;34m'DXT'\u001b[0m\u001b[0;34m]\u001b[0m\u001b[0;34m[\u001b[0m\u001b[0;34m'val'\u001b[0m\u001b[0;34m]\u001b[0m\u001b[0;34m\u001b[0m\u001b[0m\n",
      "\u001b[0;31mValueError\u001b[0m: too many values to unpack (expected 2)"
     ]
    }
   ],
   "source": [
    "from netCDF4 import Dataset\n",
    "import numpy as np\n",
    "import matplotlib.pyplot as plt\n",
    "import pandas as pd\n",
    "import datetime\n",
    "\n",
    "from operators import getGrad\n",
    "from readWrite import *\n",
    "from geosVelFromSSH import writeWithGeosVel\n",
    "\n",
    "\n",
    "filename = 'flt_HIGH_PASS.pop.h.0009-01-05.nc'\n",
    "gridFileName = 'flt_HIGH_PASS.pop.h.0009-01-05.nc'\n",
    "fieldFileNameList = 'flt_HIGH_PASS.pop.h.0009-01-05.nc'\n",
    "\n",
    "dataset = Dataset(filename)\n",
    "\n",
    "OMEGA = np.array(dataset.variables['omega'])\n",
    "g = np.array(dataset.variables['grav'])\n",
    "rho = np.array(dataset.variables['rho_sw'])\n",
    "\n",
    "\n",
    "dimensions, U_Grid_Var, T_Grid_Var = readGridInfo(gridFileName)\n",
    "\n",
    "var = T_Grid_Var.loc[T_Grid_Var['name'] == 'DXT']['val']\n",
    "heading = var.keys()[0]\n",
    "DX = var[heading]\n",
    "\n",
    "var = T_Grid_Var.loc[T_Grid_Var['name'] == 'DYT']['val']\n",
    "heading = var.keys()[0]\n",
    "DY = var[heading]\n",
    "\n",
    "var = T_Grid_Var.loc[T_Grid_Var['name'] == 'TLAT']['val']\n",
    "heading = var.keys()[0]\n",
    "phi = var[heading]\n",
    "\n",
    "var = T_Grid_Var.loc[T_Grid_Var['name'] == 'KMT']['val']\n",
    "heading = var.keys()[0]\n",
    "KMT = var[heading]\n",
    "\n",
    "fieldsDF, timeDict = readField(fieldFileNameList, ['SSH','RHO','SALT','TAUX','TAUY','time'])\n",
    "\n",
    "var = fieldsDF.loc[fieldsDF['name'] == 'SSH']['val']\n",
    "heading = var.keys()[0]\n",
    "SSH = var[heading]\n",
    "SSH = SSH[0,:,:]\n",
    "\n",
    "landMask = np.ma.getmask(np.ma.masked_where(KMT < 1, KMT))\n",
    "eqMask = np.ma.getmask(np.ma.masked_where(abs(phi) <= 3, phi))\n",
    "nanMask = np.ma.getmask(np.ma.masked_where(abs(SSH) > 1e10, SSH))\n",
    "\n",
    "mask = landMask + eqMask + nanMask\n",
    "\n",
    "SSH = np.ma.array(SSH,mask = mask,fill_value=float('nan')).filled()\n"
   ]
  },
  {
   "cell_type": "code",
   "execution_count": null,
   "metadata": {},
   "outputs": [],
   "source": [
    "np.shape(SSH)"
   ]
  },
  {
   "cell_type": "code",
   "execution_count": null,
   "metadata": {},
   "outputs": [],
   "source": [
    "%matplotlib inline\n",
    "plt.pcolormesh(SSH[:,:])\n",
    "plt.show()"
   ]
  },
  {
   "cell_type": "code",
   "execution_count": null,
   "metadata": {},
   "outputs": [],
   "source": [
    "fieldsDF"
   ]
  },
  {
   "cell_type": "code",
   "execution_count": null,
   "metadata": {},
   "outputs": [],
   "source": [
    "timeDict\n"
   ]
  },
  {
   "cell_type": "code",
   "execution_count": null,
   "metadata": {},
   "outputs": [],
   "source": [
    "var = fieldsDF.iloc[[1]]['long_name']\n",
    "heading = var.keys()[0]\n",
    "val = var[heading]"
   ]
  },
  {
   "cell_type": "code",
   "execution_count": null,
   "metadata": {},
   "outputs": [],
   "source": [
    "val"
   ]
  },
  {
   "cell_type": "code",
   "execution_count": null,
   "metadata": {},
   "outputs": [],
   "source": [
    "len(fieldsDF)"
   ]
  },
  {
   "cell_type": "code",
   "execution_count": null,
   "metadata": {},
   "outputs": [],
   "source": [
    "test = {'long_name':'test_long_name',\n",
    "       'name': 'test_name',\n",
    "       'units': 'test_unit',\n",
    "       'val': np.ones((20,20),dtype=float)}\n",
    "test2 = {'long_name':'test_long_name',\n",
    "       'name': 'test_name',\n",
    "       'units': 'test_unit',\n",
    "       'val': np.ones((20,20),dtype=float)}\n",
    "testDictList = [test,test2]"
   ]
  },
  {
   "cell_type": "code",
   "execution_count": null,
   "metadata": {},
   "outputs": [],
   "source": [
    "testDF = pd.DataFrame(columns = test.keys())"
   ]
  },
  {
   "cell_type": "code",
   "execution_count": null,
   "metadata": {},
   "outputs": [],
   "source": [
    "testDF.loc[0] = test"
   ]
  },
  {
   "cell_type": "code",
   "execution_count": null,
   "metadata": {},
   "outputs": [],
   "source": [
    "fieldsDF = fieldsDF.append(testDF)#,ignore_index=True)"
   ]
  },
  {
   "cell_type": "code",
   "execution_count": null,
   "metadata": {},
   "outputs": [],
   "source": [
    "fieldsDF.iloc[5]"
   ]
  },
  {
   "cell_type": "code",
   "execution_count": null,
   "metadata": {},
   "outputs": [],
   "source": [
    "fieldsDF"
   ]
  },
  {
   "cell_type": "code",
   "execution_count": null,
   "metadata": {},
   "outputs": [],
   "source": [
    "writeFilename = 'GeostrophicVel_'\n",
    "suffix = '{0:04d}-{1:02d}-{2:02d}.nc'.format(9,1,5)\n",
    "writeFilename = writeFilename + suffix"
   ]
  },
  {
   "cell_type": "code",
   "execution_count": null,
   "metadata": {},
   "outputs": [],
   "source": [
    "writeFilename\n"
   ]
  },
  {
   "cell_type": "code",
   "execution_count": null,
   "metadata": {},
   "outputs": [],
   "source": [
    "dataset.dimensions"
   ]
  },
  {
   "cell_type": "code",
   "execution_count": null,
   "metadata": {},
   "outputs": [],
   "source": [
    "from geosVelFromSSH import writeWithGeosVel\n",
    "writeWithGeosVel('flt_HIGH_PASS.pop.h.0009-01-05.nc')"
   ]
  },
  {
   "cell_type": "code",
   "execution_count": null,
   "metadata": {},
   "outputs": [],
   "source": []
  }
 ],
 "metadata": {
  "kernelspec": {
   "display_name": "Python 3",
   "language": "python",
   "name": "python3"
  },
  "language_info": {
   "codemirror_mode": {
    "name": "ipython",
    "version": 3
   },
   "file_extension": ".py",
   "mimetype": "text/x-python",
   "name": "python",
   "nbconvert_exporter": "python",
   "pygments_lexer": "ipython3",
   "version": "3.6.5"
  }
 },
 "nbformat": 4,
 "nbformat_minor": 2
}
